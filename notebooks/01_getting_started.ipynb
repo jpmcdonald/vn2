{
  "cells": [
    {
      "cell_type": "markdown",
      "metadata": {},
      "source": [
        "# VN2 Getting Started\n",
        "\n",
        "This notebook demonstrates the basic workflow for the VN2 Inventory Planning Challenge.\n"
      ]
    },
    {
      "cell_type": "code",
      "execution_count": null,
      "metadata": {},
      "outputs": [],
      "source": [
        "import sys\n",
        "sys.path.insert(0, '../src')\n",
        "\n",
        "import pandas as pd\n",
        "import numpy as np\n",
        "from vn2.data import submission_index, load_initial_state, load_master\n",
        "from vn2.sim import Simulator, Costs, LeadTime\n",
        "from vn2.policy import base_stock_orders\n"
      ]
    }
  ],
  "metadata": {
    "language_info": {
      "name": "python"
    }
  },
  "nbformat": 4,
  "nbformat_minor": 2
}
